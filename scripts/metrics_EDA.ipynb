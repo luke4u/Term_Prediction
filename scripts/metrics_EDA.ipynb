{
 "cells": [
  {
   "cell_type": "markdown",
   "metadata": {},
   "source": [
    "### 1. Background\n",
    " - During traing and evaluation, noticed some categories shows 0 precision due to 0 predicated examples \n",
    " - Below will focus on to understand why and expose some model weakness"
   ]
  },
  {
   "cell_type": "markdown",
   "metadata": {},
   "source": [
    "### 2. Import libraries"
   ]
  },
  {
   "cell_type": "code",
   "execution_count": 1,
   "metadata": {},
   "outputs": [],
   "source": [
    "SEED_VALUE = 0\n",
    "import os\n",
    "os.environ['PYTHONHASHSEED'] = str(SEED_VALUE)\n",
    "import random\n",
    "random.seed(SEED_VALUE)\n",
    "import numpy as np\n",
    "np.random.seed(SEED_VALUE)\n",
    "import pandas as pd\n",
    "import matplotlib.pyplot as plt\n",
    "import seaborn as sns\n",
    "from sklearn.model_selection import train_test_split"
   ]
  },
  {
   "cell_type": "markdown",
   "metadata": {},
   "source": [
    "### 3. EDA"
   ]
  },
  {
   "cell_type": "markdown",
   "metadata": {},
   "source": [
    "### 3.1 Data sense check"
   ]
  },
  {
   "cell_type": "code",
   "execution_count": 2,
   "metadata": {},
   "outputs": [],
   "source": [
    "cols = ['term', 'label']\n",
    "df = pd.read_csv('../trainSet.csv', header=None, names = cols)\n",
    "df_train, df_eval = train_test_split(df, test_size = 0.3, shuffle = True, \n",
    "                                             stratify = df['label'], random_state = SEED_VALUE)"
   ]
  },
  {
   "cell_type": "code",
   "execution_count": 3,
   "metadata": {},
   "outputs": [
    {
     "data": {
      "text/plain": [
       "label\n",
       "0       136\n",
       "1       121\n",
       "2       175\n",
       "3       131\n",
       "4       167\n",
       "       ... \n",
       "1414    156\n",
       "1415    174\n",
       "1416    150\n",
       "1417    156\n",
       "1418    136\n",
       "Name: term, Length: 1419, dtype: int64"
      ]
     },
     "execution_count": 3,
     "metadata": {},
     "output_type": "execute_result"
    }
   ],
   "source": [
    "df_eval.groupby('label')['term'].count()"
   ]
  },
  {
   "cell_type": "code",
   "execution_count": 4,
   "metadata": {},
   "outputs": [
    {
     "data": {
      "text/plain": [
       "label\n",
       "0       317\n",
       "1       283\n",
       "2       407\n",
       "3       307\n",
       "4       390\n",
       "       ... \n",
       "1414    363\n",
       "1415    407\n",
       "1416    351\n",
       "1417    365\n",
       "1418    317\n",
       "Name: term, Length: 1419, dtype: int64"
      ]
     },
     "execution_count": 4,
     "metadata": {},
     "output_type": "execute_result"
    }
   ],
   "source": [
    "df_train.groupby('label')['term'].count()"
   ]
  },
  {
   "cell_type": "markdown",
   "metadata": {},
   "source": [
    "### 3.2 Read metrics data"
   ]
  },
  {
   "cell_type": "code",
   "execution_count": 6,
   "metadata": {},
   "outputs": [],
   "source": [
    "df_train_metrics = pd.read_csv('../outputs/ml_classification/multinomialnb_train_metrics.csv')\n",
    "df_eval_metrics = pd.read_csv('../outputs/ml_classification/eval_metrics.csv')\n",
    "df_eval_metrics = df_eval_metrics.iloc[: -3, :]\n",
    "df_train_metrics = df_train_metrics.iloc[: -3, :]\n",
    "df_train_metrics.rename(columns = {'Unnamed: 0': 'label'}, inplace=True)\n",
    "df_eval_metrics.rename(columns = {'Unnamed: 0': 'label'}, inplace=True)"
   ]
  },
  {
   "cell_type": "code",
   "execution_count": 7,
   "metadata": {},
   "outputs": [],
   "source": [
    "df_train_metrics['label'] = df_train_metrics['label'].astype(int)\n",
    "df_eval_metrics['label'] = df_eval_metrics['label'].astype(int)"
   ]
  },
  {
   "cell_type": "markdown",
   "metadata": {},
   "source": [
    "### 3.3 Model performance"
   ]
  },
  {
   "cell_type": "code",
   "execution_count": 8,
   "metadata": {},
   "outputs": [
    {
     "name": "stdout",
     "output_type": "stream",
     "text": [
      "Model train precision 0.85 +/-0.18\n"
     ]
    }
   ],
   "source": [
    "print('Model train precision %s +/-%s' %(np.round(df_train_metrics['precision'].mean(), 2), np.round(df_train_metrics['precision'].std(), 2)))"
   ]
  },
  {
   "cell_type": "code",
   "execution_count": 9,
   "metadata": {},
   "outputs": [
    {
     "name": "stdout",
     "output_type": "stream",
     "text": [
      "Model evaluation precision 0.58 +/-0.2\n"
     ]
    }
   ],
   "source": [
    "print('Model evaluation precision %s +/-%s' %(np.round(df_eval_metrics['precision'].mean(), 2), np.round(df_eval_metrics['precision'].std(), 2)))"
   ]
  },
  {
   "cell_type": "markdown",
   "metadata": {},
   "source": [
    "below match back to 3.1"
   ]
  },
  {
   "cell_type": "code",
   "execution_count": 10,
   "metadata": {},
   "outputs": [
    {
     "data": {
      "text/plain": [
       "((1419, 5), (1419, 5))"
      ]
     },
     "execution_count": 10,
     "metadata": {},
     "output_type": "execute_result"
    }
   ],
   "source": [
    "df_train_metrics.shape, df_eval_metrics.shape"
   ]
  },
  {
   "cell_type": "code",
   "execution_count": 11,
   "metadata": {},
   "outputs": [
    {
     "data": {
      "text/html": [
       "<div>\n",
       "<style scoped>\n",
       "    .dataframe tbody tr th:only-of-type {\n",
       "        vertical-align: middle;\n",
       "    }\n",
       "\n",
       "    .dataframe tbody tr th {\n",
       "        vertical-align: top;\n",
       "    }\n",
       "\n",
       "    .dataframe thead th {\n",
       "        text-align: right;\n",
       "    }\n",
       "</style>\n",
       "<table border=\"1\" class=\"dataframe\">\n",
       "  <thead>\n",
       "    <tr style=\"text-align: right;\">\n",
       "      <th></th>\n",
       "      <th>label</th>\n",
       "      <th>precision</th>\n",
       "      <th>recall</th>\n",
       "      <th>f1-score</th>\n",
       "      <th>support</th>\n",
       "    </tr>\n",
       "  </thead>\n",
       "  <tbody>\n",
       "    <tr>\n",
       "      <th>0</th>\n",
       "      <td>0</td>\n",
       "      <td>0.713376</td>\n",
       "      <td>0.823529</td>\n",
       "      <td>0.764505</td>\n",
       "      <td>136.0</td>\n",
       "    </tr>\n",
       "    <tr>\n",
       "      <th>1</th>\n",
       "      <td>1</td>\n",
       "      <td>0.593333</td>\n",
       "      <td>0.735537</td>\n",
       "      <td>0.656827</td>\n",
       "      <td>121.0</td>\n",
       "    </tr>\n",
       "    <tr>\n",
       "      <th>2</th>\n",
       "      <td>2</td>\n",
       "      <td>0.441860</td>\n",
       "      <td>0.760000</td>\n",
       "      <td>0.558824</td>\n",
       "      <td>175.0</td>\n",
       "    </tr>\n",
       "    <tr>\n",
       "      <th>3</th>\n",
       "      <td>3</td>\n",
       "      <td>0.382979</td>\n",
       "      <td>0.274809</td>\n",
       "      <td>0.320000</td>\n",
       "      <td>131.0</td>\n",
       "    </tr>\n",
       "    <tr>\n",
       "      <th>4</th>\n",
       "      <td>4</td>\n",
       "      <td>0.469055</td>\n",
       "      <td>0.862275</td>\n",
       "      <td>0.607595</td>\n",
       "      <td>167.0</td>\n",
       "    </tr>\n",
       "  </tbody>\n",
       "</table>\n",
       "</div>"
      ],
      "text/plain": [
       "   label  precision    recall  f1-score  support\n",
       "0      0   0.713376  0.823529  0.764505    136.0\n",
       "1      1   0.593333  0.735537  0.656827    121.0\n",
       "2      2   0.441860  0.760000  0.558824    175.0\n",
       "3      3   0.382979  0.274809  0.320000    131.0\n",
       "4      4   0.469055  0.862275  0.607595    167.0"
      ]
     },
     "execution_count": 11,
     "metadata": {},
     "output_type": "execute_result"
    }
   ],
   "source": [
    "df_eval_metrics.head()"
   ]
  },
  {
   "cell_type": "markdown",
   "metadata": {},
   "source": [
    "#### Findings: \n",
    "- support matches the count from original data"
   ]
  },
  {
   "cell_type": "markdown",
   "metadata": {},
   "source": [
    "### 3.4 Zero categories analysis"
   ]
  },
  {
   "cell_type": "code",
   "execution_count": 12,
   "metadata": {},
   "outputs": [
    {
     "name": "stdout",
     "output_type": "stream",
     "text": [
      "amount of categories with 0 prediction during evaluation:  85\n"
     ]
    }
   ],
   "source": [
    "# df_eval_metrics[df_eval_metrics['precision'] == 0].count()\n",
    "print('amount of categories with 0 prediction during evaluation: ',  df_eval_metrics[df_eval_metrics['precision'] == 0].count()['precision'] )"
   ]
  },
  {
   "cell_type": "code",
   "execution_count": 13,
   "metadata": {},
   "outputs": [],
   "source": [
    "cat_eval_zero = df_eval_metrics[df_eval_metrics['precision'] == 0]['label'].tolist()"
   ]
  },
  {
   "cell_type": "code",
   "execution_count": 14,
   "metadata": {},
   "outputs": [
    {
     "name": "stdout",
     "output_type": "stream",
     "text": [
      "amount of categories with 0 prediction during train:  43\n"
     ]
    }
   ],
   "source": [
    "print('amount of categories with 0 prediction during train: ',  df_train_metrics[df_train_metrics['precision'] == 0].count()['precision'] )"
   ]
  },
  {
   "cell_type": "code",
   "execution_count": 15,
   "metadata": {},
   "outputs": [],
   "source": [
    "cat_train_zero = df_train_metrics[df_train_metrics['precision'] == 0]['label'].tolist()"
   ]
  },
  {
   "cell_type": "code",
   "execution_count": 16,
   "metadata": {},
   "outputs": [],
   "source": [
    "cat_in_eval_only = [cat for cat in cat_eval_zero if cat not in cat_train_zero]\n",
    "cat_in_eval_train = [cat for cat in cat_eval_zero if cat in cat_train_zero]"
   ]
  },
  {
   "cell_type": "code",
   "execution_count": 17,
   "metadata": {},
   "outputs": [
    {
     "name": "stdout",
     "output_type": "stream",
     "text": [
      "amount of categories with 0 prediction only in evaluation:  46\n",
      "amount of categories with 0 prediction both in evaluation and train:  39\n"
     ]
    }
   ],
   "source": [
    "print('amount of categories with 0 prediction only in evaluation: ',len(cat_in_eval_only) )\n",
    "print('amount of categories with 0 prediction both in evaluation and train: ',len(cat_in_eval_train) )"
   ]
  },
  {
   "cell_type": "markdown",
   "metadata": {},
   "source": [
    "#### Findings: \n",
    "- 85 categories shows 0 precision due to 0 predicted samples during evaluation.\n",
    "- among these 85, there are 46 categories which did not appear in train set.  \n",
    "- 43 categories shows 0 precision due to 0 predicted samples during training.\n",
    "- among these 43, there are 39 categories which also appear in evaluation."
   ]
  },
  {
   "cell_type": "markdown",
   "metadata": {},
   "source": [
    "#### 3.4.1 categories with 0 prediction during train and evaluation (39)"
   ]
  },
  {
   "cell_type": "code",
   "execution_count": 19,
   "metadata": {},
   "outputs": [
    {
     "data": {
      "text/plain": [
       "39"
      ]
     },
     "execution_count": 19,
     "metadata": {},
     "output_type": "execute_result"
    }
   ],
   "source": [
    "len(cat_in_eval_train)"
   ]
  },
  {
   "cell_type": "code",
   "execution_count": 31,
   "metadata": {},
   "outputs": [
    {
     "data": {
      "text/plain": [
       "8.0"
      ]
     },
     "execution_count": 31,
     "metadata": {},
     "output_type": "execute_result"
    }
   ],
   "source": [
    "df_train_metrics['support'].quantile(0.015)"
   ]
  },
  {
   "cell_type": "code",
   "execution_count": 21,
   "metadata": {},
   "outputs": [
    {
     "data": {
      "text/plain": [
       "count    39.000000\n",
       "mean     12.717949\n",
       "std      12.411685\n",
       "min       1.000000\n",
       "25%       4.000000\n",
       "50%       7.000000\n",
       "75%      16.500000\n",
       "max      46.000000\n",
       "Name: support, dtype: float64"
      ]
     },
     "execution_count": 21,
     "metadata": {},
     "output_type": "execute_result"
    }
   ],
   "source": [
    "df_train_metrics[df_train_metrics['label'].isin(cat_in_eval_train)]['support'].describe()"
   ]
  },
  {
   "cell_type": "code",
   "execution_count": 22,
   "metadata": {},
   "outputs": [
    {
     "data": {
      "image/png": "[encoded data removed]",
      "text/plain": [
       "<Figure size 432x288 with 1 Axes>"
      ]
     },
     "metadata": {
      "needs_background": "light"
     },
     "output_type": "display_data"
    }
   ],
   "source": [
    "df_train_metrics[df_train_metrics['label'].isin(cat_in_eval_train)]['support'].plot.hist()\n",
    "plt.title('Support Distribution of Categories with 0 prediction in train&eval ')\n",
    "plt.xlabel('Support interval')\n",
    "plt.show()"
   ]
  },
  {
   "cell_type": "code",
   "execution_count": 23,
   "metadata": {},
   "outputs": [
    {
     "data": {
      "text/plain": [
       "count    1380.000000\n",
       "mean        0.877629\n",
       "std         0.102836\n",
       "min         0.000000\n",
       "25%         0.825298\n",
       "50%         0.888889\n",
       "75%         0.950124\n",
       "max         1.000000\n",
       "Name: precision, dtype: float64"
      ]
     },
     "execution_count": 23,
     "metadata": {},
     "output_type": "execute_result"
    }
   ],
   "source": [
    "df_train_metrics[~df_train_metrics['label'].isin(cat_in_eval_train)]['precision'].describe()"
   ]
  },
  {
   "cell_type": "code",
   "execution_count": 24,
   "metadata": {},
   "outputs": [
    {
     "data": {
      "image/png": "[encoded data removed]",
      "text/plain": [
       "<Figure size 432x288 with 1 Axes>"
      ]
     },
     "metadata": {
      "needs_background": "light"
     },
     "output_type": "display_data"
    }
   ],
   "source": [
    "df_train_metrics[~df_train_metrics['label'].isin(cat_in_eval_train)]['precision'].plot.hist()\n",
    "plt.title('Precision Distribution of Categories with >0 prediction in train&eval ')\n",
    "plt.xlabel('Precision interval')\n",
    "plt.show()"
   ]
  },
  {
   "cell_type": "code",
   "execution_count": 25,
   "metadata": {},
   "outputs": [
    {
     "data": {
      "text/plain": [
       "count    1380.000000\n",
       "mean       76.592754\n",
       "std        21.337257\n",
       "min        10.000000\n",
       "25%        61.000000\n",
       "50%        80.000000\n",
       "75%        93.000000\n",
       "max       127.000000\n",
       "Name: support, dtype: float64"
      ]
     },
     "execution_count": 25,
     "metadata": {},
     "output_type": "execute_result"
    }
   ],
   "source": [
    "df_train_metrics[~df_train_metrics['label'].isin(cat_in_eval_train)]['support'].describe()"
   ]
  },
  {
   "cell_type": "code",
   "execution_count": 26,
   "metadata": {},
   "outputs": [
    {
     "data": {
      "image/png": "[encoded data removed]",
      "text/plain": [
       "<Figure size 432x288 with 1 Axes>"
      ]
     },
     "metadata": {
      "needs_background": "light"
     },
     "output_type": "display_data"
    }
   ],
   "source": [
    "df_train_metrics[~df_train_metrics['label'].isin(cat_in_eval_train)]['support'].plot.hist()\n",
    "plt.title('Support Distribution of Categories with >0 prediction in train&eval ')\n",
    "plt.xlabel('Support interval')\n",
    "plt.show()"
   ]
  },
  {
   "cell_type": "markdown",
   "metadata": {},
   "source": [
    "#### Findings:\n",
    "- median support count of these 39 categories are skewed around 7; on the contrary, the rest of cats shows median value of 80\n",
    "- 7 is around 1.5% quantile of train set support distribution\n",
    "- **conclusion**: \n",
    "    - compared to the rest of categories with median precision at 0.89, these 39 cats have extremely low training data, leading to 0 prediction\n",
    "    - this (i.e. underfitting) explains both 0 precision in training and evaluation"
   ]
  },
  {
   "cell_type": "markdown",
   "metadata": {},
   "source": [
    "#### 3.4.2 categories with 0 prediction during evaluation (46)"
   ]
  },
  {
   "cell_type": "markdown",
   "metadata": {},
   "source": [
    "#### 1) support analysis in evaluation"
   ]
  },
  {
   "cell_type": "code",
   "execution_count": 33,
   "metadata": {},
   "outputs": [
    {
     "data": {
      "text/plain": [
       "46"
      ]
     },
     "execution_count": 33,
     "metadata": {},
     "output_type": "execute_result"
    }
   ],
   "source": [
    "len(cat_in_eval_only)"
   ]
  },
  {
   "cell_type": "code",
   "execution_count": 34,
   "metadata": {},
   "outputs": [
    {
     "data": {
      "text/plain": [
       "count    46.000000\n",
       "mean     67.608696\n",
       "std      16.359134\n",
       "min      23.000000\n",
       "25%      64.250000\n",
       "50%      72.000000\n",
       "75%      77.750000\n",
       "max      93.000000\n",
       "Name: support, dtype: float64"
      ]
     },
     "execution_count": 34,
     "metadata": {},
     "output_type": "execute_result"
    }
   ],
   "source": [
    "df_eval_metrics[df_eval_metrics['label'].isin(cat_in_eval_only)]['support'].describe()"
   ]
  },
  {
   "cell_type": "code",
   "execution_count": 35,
   "metadata": {},
   "outputs": [
    {
     "data": {
      "image/png": "[encoded data removed]",
      "text/plain": [
       "<Figure size 432x288 with 1 Axes>"
      ]
     },
     "metadata": {
      "needs_background": "light"
     },
     "output_type": "display_data"
    }
   ],
   "source": [
    "df_eval_metrics[df_eval_metrics['label'].isin(cat_in_eval_only)]['support'].plot.hist()\n",
    "plt.title('Support Distribution of Categories with 0 prediction in eval only')\n",
    "plt.xlabel('Support interval')\n",
    "plt.show()"
   ]
  },
  {
   "cell_type": "code",
   "execution_count": 36,
   "metadata": {},
   "outputs": [
    {
     "data": {
      "text/plain": [
       "count    1419.000000\n",
       "mean      128.292459\n",
       "std        38.593023\n",
       "min         1.000000\n",
       "25%       101.500000\n",
       "50%       138.000000\n",
       "75%       159.000000\n",
       "max       187.000000\n",
       "Name: support, dtype: float64"
      ]
     },
     "execution_count": 36,
     "metadata": {},
     "output_type": "execute_result"
    }
   ],
   "source": [
    "df_eval_metrics['support'].describe()"
   ]
  },
  {
   "cell_type": "code",
   "execution_count": 37,
   "metadata": {},
   "outputs": [
    {
     "data": {
      "text/plain": [
       "74.0"
      ]
     },
     "execution_count": 37,
     "metadata": {},
     "output_type": "execute_result"
    }
   ],
   "source": [
    "df_eval_metrics['support'].quantile(0.1)"
   ]
  },
  {
   "cell_type": "markdown",
   "metadata": {},
   "source": [
    "#### Findings:\n",
    "- the median and mean of 46 categories' support amount with 0 prediction during eval only is around 67-72\n",
    "- this ranege of values is around the 10% quantile of the whole categories support distribution\n",
    "- **conclusion:**\n",
    "    - 10% quantile may lead to underfitting, but not convincing. need to review the train set"
   ]
  },
  {
   "cell_type": "markdown",
   "metadata": {},
   "source": [
    "#### 2) support analysis in training"
   ]
  },
  {
   "cell_type": "markdown",
   "metadata": {},
   "source": [
    "#### review a randomly picked example"
   ]
  },
  {
   "cell_type": "code",
   "execution_count": 38,
   "metadata": {},
   "outputs": [
    {
     "name": "stdout",
     "output_type": "stream",
     "text": [
      "980\n"
     ]
    }
   ],
   "source": [
    "random_cat = random.choice(cat_in_eval_only)\n",
    "random_cat = 980 #for demo purpose, fix it\n",
    "print(random_cat)"
   ]
  },
  {
   "cell_type": "code",
   "execution_count": 39,
   "metadata": {},
   "outputs": [
    {
     "data": {
      "text/html": [
       "<div>\n",
       "<style scoped>\n",
       "    .dataframe tbody tr th:only-of-type {\n",
       "        vertical-align: middle;\n",
       "    }\n",
       "\n",
       "    .dataframe tbody tr th {\n",
       "        vertical-align: top;\n",
       "    }\n",
       "\n",
       "    .dataframe thead th {\n",
       "        text-align: right;\n",
       "    }\n",
       "</style>\n",
       "<table border=\"1\" class=\"dataframe\">\n",
       "  <thead>\n",
       "    <tr style=\"text-align: right;\">\n",
       "      <th></th>\n",
       "      <th>label</th>\n",
       "      <th>precision</th>\n",
       "      <th>recall</th>\n",
       "      <th>f1-score</th>\n",
       "      <th>support</th>\n",
       "    </tr>\n",
       "  </thead>\n",
       "  <tbody>\n",
       "    <tr>\n",
       "      <th>980</th>\n",
       "      <td>980</td>\n",
       "      <td>1.0</td>\n",
       "      <td>0.021739</td>\n",
       "      <td>0.042553</td>\n",
       "      <td>46.0</td>\n",
       "    </tr>\n",
       "  </tbody>\n",
       "</table>\n",
       "</div>"
      ],
      "text/plain": [
       "     label  precision    recall  f1-score  support\n",
       "980    980        1.0  0.021739  0.042553     46.0"
      ]
     },
     "execution_count": 39,
     "metadata": {},
     "output_type": "execute_result"
    }
   ],
   "source": [
    "df_train_metrics[df_train_metrics['label'] == random_cat]"
   ]
  },
  {
   "cell_type": "code",
   "execution_count": 40,
   "metadata": {},
   "outputs": [
    {
     "data": {
      "text/html": [
       "<div>\n",
       "<style scoped>\n",
       "    .dataframe tbody tr th:only-of-type {\n",
       "        vertical-align: middle;\n",
       "    }\n",
       "\n",
       "    .dataframe tbody tr th {\n",
       "        vertical-align: top;\n",
       "    }\n",
       "\n",
       "    .dataframe thead th {\n",
       "        text-align: right;\n",
       "    }\n",
       "</style>\n",
       "<table border=\"1\" class=\"dataframe\">\n",
       "  <thead>\n",
       "    <tr style=\"text-align: right;\">\n",
       "      <th></th>\n",
       "      <th>label</th>\n",
       "      <th>precision</th>\n",
       "      <th>recall</th>\n",
       "      <th>f1-score</th>\n",
       "      <th>support</th>\n",
       "    </tr>\n",
       "  </thead>\n",
       "  <tbody>\n",
       "    <tr>\n",
       "      <th>980</th>\n",
       "      <td>980</td>\n",
       "      <td>0.0</td>\n",
       "      <td>0.0</td>\n",
       "      <td>0.0</td>\n",
       "      <td>72.0</td>\n",
       "    </tr>\n",
       "  </tbody>\n",
       "</table>\n",
       "</div>"
      ],
      "text/plain": [
       "     label  precision  recall  f1-score  support\n",
       "980    980        0.0     0.0       0.0     72.0"
      ]
     },
     "execution_count": 40,
     "metadata": {},
     "output_type": "execute_result"
    }
   ],
   "source": [
    "df_eval_metrics[df_eval_metrics['label'] == random_cat]"
   ]
  },
  {
   "cell_type": "markdown",
   "metadata": {},
   "source": [
    "#### Findings:\n",
    "- Refer to model documentation file.\n",
    "- train metrics is from train sub-subset, generated after 2 rounds of train-test split\n",
    "- thus, it is likely some cats appears more in evaluation set than train sub-sub set.\n",
    "- above random picked cat indicates that with only 46 supports, cat 980 shows a precision of 1.0. \n",
    "- but with 72 support during evaluation, cat 980 shows a precision of 0. \n",
    "- conclusion:\n",
    "    - this indicates that 10% quantile range of these 44 cats with 0 precision during evaluation is not likely from underfitting. In another word, increasing supports probably won't increase precision.\n",
    "    - this also implies overfitting during training. cat 980 with enrichment and less support achieves precision of 1 during train, while achieve 0 with more support and no enrichment."
   ]
  },
  {
   "cell_type": "code",
   "execution_count": 41,
   "metadata": {},
   "outputs": [
    {
     "data": {
      "text/plain": [
       "count    46.000000\n",
       "mean     41.304348\n",
       "std      11.039061\n",
       "min      10.000000\n",
       "25%      36.000000\n",
       "50%      44.500000\n",
       "75%      47.000000\n",
       "max      62.000000\n",
       "Name: support, dtype: float64"
      ]
     },
     "execution_count": 41,
     "metadata": {},
     "output_type": "execute_result"
    }
   ],
   "source": [
    "df_train_metrics[df_train_metrics['label'].isin(cat_in_eval_only)]['support'].describe()"
   ]
  },
  {
   "cell_type": "code",
   "execution_count": 42,
   "metadata": {},
   "outputs": [
    {
     "data": {
      "text/plain": [
       "count    46.000000\n",
       "mean      0.984686\n",
       "std       0.054825\n",
       "min       0.714286\n",
       "25%       1.000000\n",
       "50%       1.000000\n",
       "75%       1.000000\n",
       "max       1.000000\n",
       "Name: precision, dtype: float64"
      ]
     },
     "execution_count": 42,
     "metadata": {},
     "output_type": "execute_result"
    }
   ],
   "source": [
    "df_train_metrics[df_train_metrics['label'].isin(cat_in_eval_only)]['precision'].describe()"
   ]
  },
  {
   "cell_type": "code",
   "execution_count": 43,
   "metadata": {},
   "outputs": [
    {
     "data": {
      "image/png": "[encoded data removed]",
      "text/plain": [
       "<Figure size 432x288 with 1 Axes>"
      ]
     },
     "metadata": {
      "needs_background": "light"
     },
     "output_type": "display_data"
    }
   ],
   "source": [
    "df_train_metrics[df_train_metrics['label'].isin(cat_in_eval_only)]['precision'].plot.hist()\n",
    "plt.title('Train Precision Distribution of Categories with 0 prediction in eval only')\n",
    "plt.xlabel('Precision interval')\n",
    "plt.show()"
   ]
  },
  {
   "cell_type": "markdown",
   "metadata": {},
   "source": [
    "#### Findings:\n",
    "- The distribution of cats with 0 precision druing train show a mean and median range of 41-44\n",
    "- These cats show a median precision of 1 during train\n",
    "- But these cats' median and mean of support distribution is 67-72 during eval, with 0 precison\n",
    "- Conclusion:\n",
    "    - same conclusion as above - overfitting due to enrichment"
   ]
  },
  {
   "cell_type": "markdown",
   "metadata": {},
   "source": [
    "#### Final conclusion:\n",
    "1. There are 2 types of categories showing 0 precisions\n",
    "    - type 1: categories appear both during train and eval \n",
    "    - type 2: categories only appear in eval\n",
    "2. For type 1:\n",
    "    - 0 precision is likely to be caused by low supports, i.e., underfitting during training. data enrichment fails to improve train precision.\n",
    "3. For type 2:\n",
    "    - Model shows overfitting during training due to data enrichment."
   ]
  },
  {
   "cell_type": "code",
   "execution_count": null,
   "metadata": {},
   "outputs": [],
   "source": []
  }
 ],
 "metadata": {
  "kernelspec": {
   "display_name": "Python 3",
   "language": "python",
   "name": "python3"
  },
  "language_info": {
   "codemirror_mode": {
    "name": "ipython",
    "version": 3
   },
   "file_extension": ".py",
   "mimetype": "text/x-python",
   "name": "python",
   "nbconvert_exporter": "python",
   "pygments_lexer": "ipython3",
   "version": "3.7.3"
  }
 },
 "nbformat": 4,
 "nbformat_minor": 4
}
