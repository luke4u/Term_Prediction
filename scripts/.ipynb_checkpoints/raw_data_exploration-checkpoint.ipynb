{
 "cells": [
  {
   "cell_type": "markdown",
   "metadata": {},
   "source": [
    "### 1. Import libraries"
   ]
  },
  {
   "cell_type": "code",
   "execution_count": 1,
   "metadata": {},
   "outputs": [],
   "source": [
    "SEED_VALUE = 0\n",
    "import os\n",
    "os.environ['PYTHONHASHSEED'] = str(SEED_VALUE)\n",
    "import random\n",
    "random.seed(SEED_VALUE)\n",
    "import numpy as np\n",
    "np.random.seed(SEED_VALUE)"
   ]
  },
  {
   "cell_type": "code",
   "execution_count": 2,
   "metadata": {},
   "outputs": [
    {
     "name": "stderr",
     "output_type": "stream",
     "text": [
      "[nltk_data] Downloading package punkt to\n",
      "[nltk_data]     C:\\Users\\KX764QE\\AppData\\Roaming\\nltk_data...\n",
      "[nltk_data]   Package punkt is already up-to-date!\n",
      "[nltk_data] Downloading package wordnet to\n",
      "[nltk_data]     C:\\Users\\KX764QE\\AppData\\Roaming\\nltk_data...\n",
      "[nltk_data]   Package wordnet is already up-to-date!\n",
      "[nltk_data] Downloading package averaged_perceptron_tagger to\n",
      "[nltk_data]     C:\\Users\\KX764QE\\AppData\\Roaming\\nltk_data...\n",
      "[nltk_data]   Package averaged_perceptron_tagger is already up-to-\n",
      "[nltk_data]       date!\n"
     ]
    }
   ],
   "source": [
    "import re\n",
    "import math\n",
    "import pandas as pd\n",
    "import matplotlib.pyplot as plt\n",
    "import seaborn as sns\n",
    "import string\n",
    "from nltk.tokenize import word_tokenize\n",
    "from nltk import FreqDist, pos_tag\n",
    "from nltk.corpus import wordnet\n",
    "import nltk\n",
    "nltk.download('punkt')\n",
    "nltk.download('wordnet')\n",
    "nltk.download('averaged_perceptron_tagger')\n",
    "import warnings\n",
    "warnings.filterwarnings(\"ignore\")\n",
    "# nlp=spacy.load('en_core_web_sm')\n",
    "# from spacy.lang.en.stop_words import STOP_WORDS\n",
    "# from nltk.corpus import stopwords as stopwords_nltk"
   ]
  },
  {
   "cell_type": "markdown",
   "metadata": {},
   "source": [
    "### 2. Data Exploration"
   ]
  },
  {
   "cell_type": "code",
   "execution_count": 3,
   "metadata": {},
   "outputs": [],
   "source": [
    "cols = ['term', 'label']\n",
    "df = pd.read_csv('../trainSet.csv', header=None, names = cols)"
   ]
  },
  {
   "cell_type": "code",
   "execution_count": 4,
   "metadata": {},
   "outputs": [
    {
     "name": "stdout",
     "output_type": "stream",
     "text": [
      "<class 'pandas.core.frame.DataFrame'>\n",
      "RangeIndex: 606823 entries, 0 to 606822\n",
      "Data columns (total 2 columns):\n",
      " #   Column  Non-Null Count   Dtype \n",
      "---  ------  --------------   ----- \n",
      " 0   term    606823 non-null  object\n",
      " 1   label   606823 non-null  int64 \n",
      "dtypes: int64(1), object(1)\n",
      "memory usage: 9.3+ MB\n"
     ]
    }
   ],
   "source": [
    "df.info()"
   ]
  },
  {
   "cell_type": "code",
   "execution_count": 5,
   "metadata": {},
   "outputs": [
    {
     "data": {
      "text/html": [
       "<div>\n",
       "<style scoped>\n",
       "    .dataframe tbody tr th:only-of-type {\n",
       "        vertical-align: middle;\n",
       "    }\n",
       "\n",
       "    .dataframe tbody tr th {\n",
       "        vertical-align: top;\n",
       "    }\n",
       "\n",
       "    .dataframe thead th {\n",
       "        text-align: right;\n",
       "    }\n",
       "</style>\n",
       "<table border=\"1\" class=\"dataframe\">\n",
       "  <thead>\n",
       "    <tr style=\"text-align: right;\">\n",
       "      <th></th>\n",
       "      <th>term</th>\n",
       "      <th>label</th>\n",
       "    </tr>\n",
       "  </thead>\n",
       "  <tbody>\n",
       "    <tr>\n",
       "      <th>0</th>\n",
       "      <td>yew hedge</td>\n",
       "      <td>1221</td>\n",
       "    </tr>\n",
       "    <tr>\n",
       "      <th>1</th>\n",
       "      <td>fire detection shop</td>\n",
       "      <td>19</td>\n",
       "    </tr>\n",
       "    <tr>\n",
       "      <th>2</th>\n",
       "      <td>cheap couch roll</td>\n",
       "      <td>398</td>\n",
       "    </tr>\n",
       "    <tr>\n",
       "      <th>3</th>\n",
       "      <td>extra watermelon gum</td>\n",
       "      <td>1108</td>\n",
       "    </tr>\n",
       "    <tr>\n",
       "      <th>4</th>\n",
       "      <td>used generators for sale uk</td>\n",
       "      <td>213</td>\n",
       "    </tr>\n",
       "  </tbody>\n",
       "</table>\n",
       "</div>"
      ],
      "text/plain": [
       "                          term  label\n",
       "0                    yew hedge   1221\n",
       "1          fire detection shop     19\n",
       "2             cheap couch roll    398\n",
       "3         extra watermelon gum   1108\n",
       "4  used generators for sale uk    213"
      ]
     },
     "execution_count": 5,
     "metadata": {},
     "output_type": "execute_result"
    }
   ],
   "source": [
    "df.head()"
   ]
  },
  {
   "cell_type": "markdown",
   "metadata": {},
   "source": [
    "#### 2.1 Missing vlaue check"
   ]
  },
  {
   "cell_type": "code",
   "execution_count": 6,
   "metadata": {},
   "outputs": [
    {
     "data": {
      "text/plain": [
       "term     0\n",
       "label    0\n",
       "dtype: int64"
      ]
     },
     "execution_count": 6,
     "metadata": {},
     "output_type": "execute_result"
    }
   ],
   "source": [
    "df.isnull().sum()"
   ]
  },
  {
   "cell_type": "markdown",
   "metadata": {},
   "source": [
    "#### 2.2 Category imbalance analysis"
   ]
  },
  {
   "cell_type": "code",
   "execution_count": 7,
   "metadata": {},
   "outputs": [],
   "source": [
    "NB_CLASSES = df['label'].nunique()"
   ]
  },
  {
   "cell_type": "code",
   "execution_count": 8,
   "metadata": {},
   "outputs": [
    {
     "data": {
      "text/plain": [
       "label\n",
       "587      4\n",
       "826     10\n",
       "554     14\n",
       "1309    14\n",
       "173     16\n",
       "619     17\n",
       "615     19\n",
       "1105    21\n",
       "865     23\n",
       "531     26\n",
       "Name: term, dtype: int64"
      ]
     },
     "execution_count": 8,
     "metadata": {},
     "output_type": "execute_result"
    }
   ],
   "source": [
    "df.groupby('label')['term'].count().sort_values().head(10)"
   ]
  },
  {
   "cell_type": "code",
   "execution_count": 9,
   "metadata": {},
   "outputs": [
    {
     "data": {
      "text/plain": [
       "count    1419.000000\n",
       "mean      427.641297\n",
       "std       128.526016\n",
       "min         4.000000\n",
       "25%       338.500000\n",
       "50%       461.000000\n",
       "75%       530.000000\n",
       "max       623.000000\n",
       "Name: term, dtype: float64"
      ]
     },
     "execution_count": 9,
     "metadata": {},
     "output_type": "execute_result"
    }
   ],
   "source": [
    "df.groupby('label')['term'].count().describe()"
   ]
  },
  {
   "cell_type": "code",
   "execution_count": 10,
   "metadata": {},
   "outputs": [
    {
     "data": {
      "image/png": "[encoded data removed]",
      "text/plain": [
       "<Figure size 432x288 with 1 Axes>"
      ]
     },
     "metadata": {
      "needs_background": "light"
     },
     "output_type": "display_data"
    }
   ],
   "source": [
    "df.groupby('label')['term'].count().plot.hist(bins = 30)\n",
    "plt.xlabel('Category count bins')\n",
    "plt.title('Distribution of category count')\n",
    "plt.show()"
   ]
  },
  {
   "cell_type": "markdown",
   "metadata": {},
   "source": [
    "#### Finding:\n",
    " - more than 50% of categories have count skewed towards 460\n",
    " - some categories are rare, with much less than count than average. e.g., only 4 terms for category 587\n",
    " - Overall, no strong imbalances but for classes with extreme less counts underfitting may appear"
   ]
  },
  {
   "cell_type": "markdown",
   "metadata": {},
   "source": [
    "#### 2.3 Review least and most frequent category"
   ]
  },
  {
   "cell_type": "code",
   "execution_count": 11,
   "metadata": {},
   "outputs": [],
   "source": [
    "df_cat_count = df.groupby('label')['term'].count().sort_values(ascending = True).to_frame().reset_index(drop = False)"
   ]
  },
  {
   "cell_type": "code",
   "execution_count": 12,
   "metadata": {},
   "outputs": [
    {
     "name": "stdout",
     "output_type": "stream",
     "text": [
      "Least frequent category:  587\n",
      "Most frequent category:  54\n"
     ]
    }
   ],
   "source": [
    "cat_least_freq = df_cat_count['label'].iloc[0]\n",
    "print('Least frequent category: ', cat_least_freq)\n",
    "cat_most_freq = df_cat_count['label'].iloc[-1]\n",
    "print('Most frequent category: ', cat_most_freq)"
   ]
  },
  {
   "cell_type": "code",
   "execution_count": 13,
   "metadata": {},
   "outputs": [
    {
     "data": {
      "text/html": [
       "<div>\n",
       "<style scoped>\n",
       "    .dataframe tbody tr th:only-of-type {\n",
       "        vertical-align: middle;\n",
       "    }\n",
       "\n",
       "    .dataframe tbody tr th {\n",
       "        vertical-align: top;\n",
       "    }\n",
       "\n",
       "    .dataframe thead th {\n",
       "        text-align: right;\n",
       "    }\n",
       "</style>\n",
       "<table border=\"1\" class=\"dataframe\">\n",
       "  <thead>\n",
       "    <tr style=\"text-align: right;\">\n",
       "      <th></th>\n",
       "      <th>term</th>\n",
       "      <th>label</th>\n",
       "    </tr>\n",
       "  </thead>\n",
       "  <tbody>\n",
       "    <tr>\n",
       "      <th>333393</th>\n",
       "      <td>innovation in financial services</td>\n",
       "      <td>587</td>\n",
       "    </tr>\n",
       "    <tr>\n",
       "      <th>373542</th>\n",
       "      <td>m commerce uk</td>\n",
       "      <td>587</td>\n",
       "    </tr>\n",
       "    <tr>\n",
       "      <th>143201</th>\n",
       "      <td>fintech big data</td>\n",
       "      <td>587</td>\n",
       "    </tr>\n",
       "    <tr>\n",
       "      <th>124007</th>\n",
       "      <td>client onboarding investment banking</td>\n",
       "      <td>587</td>\n",
       "    </tr>\n",
       "  </tbody>\n",
       "</table>\n",
       "</div>"
      ],
      "text/plain": [
       "                                        term  label\n",
       "333393      innovation in financial services    587\n",
       "373542                         m commerce uk    587\n",
       "143201                      fintech big data    587\n",
       "124007  client onboarding investment banking    587"
      ]
     },
     "execution_count": 13,
     "metadata": {},
     "output_type": "execute_result"
    }
   ],
   "source": [
    "df[ df['label'] == cat_least_freq ].sample(frac = 1)"
   ]
  },
  {
   "cell_type": "code",
   "execution_count": 14,
   "metadata": {},
   "outputs": [
    {
     "data": {
      "text/html": [
       "<div>\n",
       "<style scoped>\n",
       "    .dataframe tbody tr th:only-of-type {\n",
       "        vertical-align: middle;\n",
       "    }\n",
       "\n",
       "    .dataframe tbody tr th {\n",
       "        vertical-align: top;\n",
       "    }\n",
       "\n",
       "    .dataframe thead th {\n",
       "        text-align: right;\n",
       "    }\n",
       "</style>\n",
       "<table border=\"1\" class=\"dataframe\">\n",
       "  <thead>\n",
       "    <tr style=\"text-align: right;\">\n",
       "      <th></th>\n",
       "      <th>term</th>\n",
       "      <th>label</th>\n",
       "    </tr>\n",
       "  </thead>\n",
       "  <tbody>\n",
       "    <tr>\n",
       "      <th>379083</th>\n",
       "      <td>bmw x3 2.0 d remap</td>\n",
       "      <td>54</td>\n",
       "    </tr>\n",
       "    <tr>\n",
       "      <th>317648</th>\n",
       "      <td>insignia vxr tuning</td>\n",
       "      <td>54</td>\n",
       "    </tr>\n",
       "    <tr>\n",
       "      <th>440109</th>\n",
       "      <td>tuning key</td>\n",
       "      <td>54</td>\n",
       "    </tr>\n",
       "    <tr>\n",
       "      <th>330489</th>\n",
       "      <td>volvo v70 d5 remap</td>\n",
       "      <td>54</td>\n",
       "    </tr>\n",
       "    <tr>\n",
       "      <th>447018</th>\n",
       "      <td>seat tuning</td>\n",
       "      <td>54</td>\n",
       "    </tr>\n",
       "  </tbody>\n",
       "</table>\n",
       "</div>"
      ],
      "text/plain": [
       "                       term  label\n",
       "379083   bmw x3 2.0 d remap     54\n",
       "317648  insignia vxr tuning     54\n",
       "440109           tuning key     54\n",
       "330489   volvo v70 d5 remap     54\n",
       "447018          seat tuning     54"
      ]
     },
     "execution_count": 14,
     "metadata": {},
     "output_type": "execute_result"
    }
   ],
   "source": [
    "df[ df['label'] == cat_most_freq ].sample(5)"
   ]
  },
  {
   "cell_type": "markdown",
   "metadata": {},
   "source": [
    "#### Review a random label"
   ]
  },
  {
   "cell_type": "code",
   "execution_count": 15,
   "metadata": {},
   "outputs": [
    {
     "data": {
      "text/html": [
       "<div>\n",
       "<style scoped>\n",
       "    .dataframe tbody tr th:only-of-type {\n",
       "        vertical-align: middle;\n",
       "    }\n",
       "\n",
       "    .dataframe tbody tr th {\n",
       "        vertical-align: top;\n",
       "    }\n",
       "\n",
       "    .dataframe thead th {\n",
       "        text-align: right;\n",
       "    }\n",
       "</style>\n",
       "<table border=\"1\" class=\"dataframe\">\n",
       "  <thead>\n",
       "    <tr style=\"text-align: right;\">\n",
       "      <th></th>\n",
       "      <th>term</th>\n",
       "      <th>label</th>\n",
       "    </tr>\n",
       "  </thead>\n",
       "  <tbody>\n",
       "    <tr>\n",
       "      <th>424920</th>\n",
       "      <td>レンタル wifi</td>\n",
       "      <td>541</td>\n",
       "    </tr>\n",
       "    <tr>\n",
       "      <th>6820</th>\n",
       "      <td>ロンドン wifi レンタル</td>\n",
       "      <td>541</td>\n",
       "    </tr>\n",
       "    <tr>\n",
       "      <th>494786</th>\n",
       "      <td>一時 帰国 wifi</td>\n",
       "      <td>541</td>\n",
       "    </tr>\n",
       "    <tr>\n",
       "      <th>254579</th>\n",
       "      <td>国内 wifi レンタル</td>\n",
       "      <td>541</td>\n",
       "    </tr>\n",
       "    <tr>\n",
       "      <th>453713</th>\n",
       "      <td>羽田 空港 wifi レンタル</td>\n",
       "      <td>541</td>\n",
       "    </tr>\n",
       "  </tbody>\n",
       "</table>\n",
       "</div>"
      ],
      "text/plain": [
       "                   term  label\n",
       "424920        レンタル wifi    541\n",
       "6820     ロンドン wifi レンタル    541\n",
       "494786       一時 帰国 wifi    541\n",
       "254579     国内 wifi レンタル    541\n",
       "453713  羽田 空港 wifi レンタル    541"
      ]
     },
     "execution_count": 15,
     "metadata": {},
     "output_type": "execute_result"
    }
   ],
   "source": [
    "df[ df['label'] == 541 ].sort_values(by = 'term').tail(5)"
   ]
  },
  {
   "cell_type": "markdown",
   "metadata": {},
   "source": [
    "#### Findings:\n",
    "- frequent tokens appears in each category. e.g., 'tuning' appears in 3 terms out of 5 randomly sampled terms for category 54.\n",
    "- there are non-English words in a term - more follows below\n",
    "- many abbreviations appear. e.g, 'sat' is the same as 'satelite' in 541"
   ]
  },
  {
   "cell_type": "markdown",
   "metadata": {},
   "source": [
    "#### 2.4 Punctuation check"
   ]
  },
  {
   "cell_type": "code",
   "execution_count": 16,
   "metadata": {},
   "outputs": [],
   "source": [
    "# punctuation = [':', ',',';','?','!', '#', '&', '*', '.', '^', '@', '~', '/', '+', '-', '(', ')', '[', ']', '{', '}', '<', '>', '|', '\\']\n",
    "punctuation_list = list(string.punctuation)"
   ]
  },
  {
   "cell_type": "code",
   "execution_count": 17,
   "metadata": {},
   "outputs": [],
   "source": [
    "def check_punctuation(df_in, var, punctuation):\n",
    "  \"\"\"\n",
    "  This is to check if there is any punctuation in terms\n",
    "  \"\"\"\n",
    "  punctuation_found = set()\n",
    "  for punct in punctuation:\n",
    "      for term in df_in[var]:\n",
    "          if punct in term:\n",
    "              punctuation_found.add(punct)\n",
    "#                 punctuation.remove(punct)\n",
    "#                 break\n",
    "  return punctuation_found"
   ]
  },
  {
   "cell_type": "code",
   "execution_count": 18,
   "metadata": {},
   "outputs": [],
   "source": [
    "punctuation_found = check_punctuation(df, 'term', punctuation_list)"
   ]
  },
  {
   "cell_type": "code",
   "execution_count": 19,
   "metadata": {},
   "outputs": [
    {
     "data": {
      "text/plain": [
       "{'#', '&', \"'\", '*', '+', '.', '_'}"
      ]
     },
     "execution_count": 19,
     "metadata": {},
     "output_type": "execute_result"
    }
   ],
   "source": [
    "punctuation_found"
   ]
  },
  {
   "cell_type": "markdown",
   "metadata": {},
   "source": [
    "#### Findings:\n",
    "- puncutation found include: ,'&+*#\n",
    "- except ., remove the rest punctuation"
   ]
  },
  {
   "cell_type": "code",
   "execution_count": 20,
   "metadata": {},
   "outputs": [],
   "source": [
    "def remove_punctuation(term, symbols):\n",
    "    \"\"\"\n",
    "    This is to remove punctuation found above\n",
    "    \"\"\"\n",
    "    for punct in symbols:\n",
    "        term = term.replace(punct, '')\n",
    "    return term"
   ]
  },
  {
   "cell_type": "code",
   "execution_count": 21,
   "metadata": {},
   "outputs": [],
   "source": [
    "PUNCTUATION_REMOVAL = [punct for punct in punctuation_list if punct != '.']\n",
    "df['term'] = [remove_punctuation(term, PUNCTUATION_REMOVAL)  for term in df['term']]"
   ]
  },
  {
   "cell_type": "code",
   "execution_count": 22,
   "metadata": {},
   "outputs": [
    {
     "data": {
      "text/plain": [
       "{'.'}"
      ]
     },
     "execution_count": 22,
     "metadata": {},
     "output_type": "execute_result"
    }
   ],
   "source": [
    "check_punctuation(df, 'term', punctuation_list)"
   ]
  },
  {
   "cell_type": "markdown",
   "metadata": {},
   "source": [
    "#### 2.5 NonEnglish check"
   ]
  },
  {
   "cell_type": "code",
   "execution_count": 23,
   "metadata": {},
   "outputs": [],
   "source": [
    "def check_non_english_word(df_in):\n",
    "    \"\"\"\n",
    "    This is to check if there is any Non-English words in terms\n",
    "    \"\"\"\n",
    "    pattern=re.compile(r'[^\\x00-\\x7f]')\n",
    "    cols=['label', 'term']\n",
    "    term_non_english_df = pd.DataFrame(columns=cols)\n",
    "    for index, row in df_in.iterrows():\n",
    "        term = row['term']\n",
    "        label = row['label']\n",
    "        temp_term = []\n",
    "        if pattern.search(term) is not None:\n",
    "            temp_term.append(label)\n",
    "            temp_term.append(term)\n",
    "            term_non_english_df.loc[len(term_non_english_df)] = temp_term\n",
    "            # term_non_english_df = term_non_english_df.append(pd.DataFrame(temp_term), ignore_index=True)\n",
    "    return term_non_english_df\n",
    "  "
   ]
  },
  {
   "cell_type": "code",
   "execution_count": 24,
   "metadata": {},
   "outputs": [],
   "source": [
    "term_non_eng = check_non_english_word(df)"
   ]
  },
  {
   "cell_type": "code",
   "execution_count": 25,
   "metadata": {},
   "outputs": [
    {
     "data": {
      "text/html": [
       "<div>\n",
       "<style scoped>\n",
       "    .dataframe tbody tr th:only-of-type {\n",
       "        vertical-align: middle;\n",
       "    }\n",
       "\n",
       "    .dataframe tbody tr th {\n",
       "        vertical-align: top;\n",
       "    }\n",
       "\n",
       "    .dataframe thead th {\n",
       "        text-align: right;\n",
       "    }\n",
       "</style>\n",
       "<table border=\"1\" class=\"dataframe\">\n",
       "  <thead>\n",
       "    <tr style=\"text-align: right;\">\n",
       "      <th></th>\n",
       "      <th>label</th>\n",
       "      <th>term</th>\n",
       "    </tr>\n",
       "  </thead>\n",
       "  <tbody>\n",
       "    <tr>\n",
       "      <th>0</th>\n",
       "      <td>1265</td>\n",
       "      <td>海运 回国</td>\n",
       "    </tr>\n",
       "    <tr>\n",
       "      <th>1</th>\n",
       "      <td>201</td>\n",
       "      <td>thermomètre</td>\n",
       "    </tr>\n",
       "    <tr>\n",
       "      <th>2</th>\n",
       "      <td>795</td>\n",
       "      <td>انگشتر فیروزه</td>\n",
       "    </tr>\n",
       "    <tr>\n",
       "      <th>3</th>\n",
       "      <td>1112</td>\n",
       "      <td>英国 转学</td>\n",
       "    </tr>\n",
       "    <tr>\n",
       "      <th>4</th>\n",
       "      <td>124</td>\n",
       "      <td>欧美 家 机票</td>\n",
       "    </tr>\n",
       "  </tbody>\n",
       "</table>\n",
       "</div>"
      ],
      "text/plain": [
       "  label           term\n",
       "0  1265          海运 回国\n",
       "1   201    thermomètre\n",
       "2   795  انگشتر فیروزه\n",
       "3  1112          英国 转学\n",
       "4   124        欧美 家 机票"
      ]
     },
     "execution_count": 25,
     "metadata": {},
     "output_type": "execute_result"
    }
   ],
   "source": [
    "term_non_eng.head()"
   ]
  },
  {
   "cell_type": "code",
   "execution_count": 26,
   "metadata": {},
   "outputs": [
    {
     "data": {
      "text/plain": [
       "count    235.000000\n",
       "mean       2.927660\n",
       "std        5.931147\n",
       "min        1.000000\n",
       "25%        1.000000\n",
       "50%        1.000000\n",
       "75%        3.000000\n",
       "max       62.000000\n",
       "Name: term, dtype: float64"
      ]
     },
     "execution_count": 26,
     "metadata": {},
     "output_type": "execute_result"
    }
   ],
   "source": [
    "term_non_eng.groupby('label')['term'].count().sort_values(ascending=False).describe()"
   ]
  },
  {
   "cell_type": "code",
   "execution_count": 27,
   "metadata": {},
   "outputs": [
    {
     "data": {
      "text/plain": [
       "Text(0.5, 1.0, 'Terms with Non-English chars percentage')"
      ]
     },
     "execution_count": 27,
     "metadata": {},
     "output_type": "execute_result"
    },
    {
     "data": {
      "image/png": "[encoded data removed]",
      "text/plain": [
       "<Figure size 432x288 with 1 Axes>"
      ]
     },
     "metadata": {
      "needs_background": "light"
     },
     "output_type": "display_data"
    }
   ],
   "source": [
    "(term_non_eng.groupby('label')['term'].count() / df.groupby('label')['term'].count() ).sort_values(ascending=False).head(20).plot.bar()\n",
    "plt.ylabel('Non-english term percentage')\n",
    "plt.xlabel('label')\n",
    "plt.title('Terms with Non-English chars percentage')"
   ]
  },
  {
   "cell_type": "markdown",
   "metadata": {},
   "source": [
    "#### Findings:\n",
    "- There are 4 categories with more than 5% of terms with Non-english words\n",
    "- In total, 235 categories contain Non-English words\n",
    "\n",
    "#### Methods:\n",
    "- No further processing as tf-idf vectorizer applies to Non-english words\n",
    "- Any English embedding work needs to consider imputation"
   ]
  },
  {
   "cell_type": "markdown",
   "metadata": {},
   "source": [
    "#### 2.6 Stopwords check and remvoal"
   ]
  },
  {
   "cell_type": "code",
   "execution_count": 28,
   "metadata": {},
   "outputs": [],
   "source": [
    "#resource: https://gist.github.com/sebleier/554280\n",
    "STOPWORD_CUST_LIST = ['yeah','ah','uh','um','oh','all', 'me', 'my', 'myself', 'we', 'our', 'you', \"you're\", \"you've\", \"you'll\", \"you'd\", 'your', 'yours', 'yourself', 'yourselves', 'he', 'him', 'his', 'himself', 'she', \"she's\", 'her', 'hers', 'herself', 'it', \"it's\", 'its', 'itself', 'they', 'them', 'their', 'theirs', 'themselves', 'what', 'which', 'who', 'whom', 'this', 'that', \"that'll\", 'these', 'those', 'am', 'is', 'are', 'was', 'were', 'be', 'been', 'a', 'an', 'the', 'and', 'but', 'because', 'as', 'until', 'of', 'at', 'by', 'for', 'with', 'about', 'against', 'between', 'into', 'through', 'during', 'before', 'after', 'above', 'below', 'to', 'from', 'up', 'down', 'in', 'out', 'on', 'off', 'over', 'under', 'again', 'further', 'then', 'once', 'here', 'there', 'all', 'any', 'both', 'each', 'few', 'more', 'most', 'other', 'some', 'such', 'same', 'so', 'than', 's', 't']"
   ]
  },
  {
   "cell_type": "code",
   "execution_count": 29,
   "metadata": {},
   "outputs": [],
   "source": [
    "def remove_stopwords(term, stopwords_list='customized', **kwargs):\n",
    "    \"\"\"\n",
    "    This is to remove stop words, using customized stopwords list\n",
    "    \"\"\"\n",
    "    text_tokens = word_tokenize(term)\n",
    "    if stopwords_list=='spacy':\n",
    "        tokens_without_sw = [word for word in text_tokens if not word in STOP_WORDS]\n",
    "    \n",
    "    elif stopwords_list=='nltk':\n",
    "        tokens_without_sw = [word for word in text_tokens if not word in stopwords_nltk]\n",
    "    \n",
    "    elif stopwords_list=='customized':\n",
    "        cust_stopwords=kwargs['cust_stopword']\n",
    "        tokens_without_sw = [word for word in text_tokens if not word in cust_stopwords]\n",
    "    \n",
    "    raw_txt = \" \".join(tokens_without_sw)\n",
    "\n",
    "    return raw_txt"
   ]
  },
  {
   "cell_type": "code",
   "execution_count": 30,
   "metadata": {},
   "outputs": [],
   "source": [
    "df['term_no_sw'] = [remove_stopwords(term, stopwords_list='customized', cust_stopword=STOPWORD_CUST_LIST) for term in df['term']]"
   ]
  },
  {
   "cell_type": "code",
   "execution_count": 31,
   "metadata": {},
   "outputs": [
    {
     "data": {
      "text/html": [
       "<div>\n",
       "<style scoped>\n",
       "    .dataframe tbody tr th:only-of-type {\n",
       "        vertical-align: middle;\n",
       "    }\n",
       "\n",
       "    .dataframe tbody tr th {\n",
       "        vertical-align: top;\n",
       "    }\n",
       "\n",
       "    .dataframe thead th {\n",
       "        text-align: right;\n",
       "    }\n",
       "</style>\n",
       "<table border=\"1\" class=\"dataframe\">\n",
       "  <thead>\n",
       "    <tr style=\"text-align: right;\">\n",
       "      <th></th>\n",
       "      <th>term</th>\n",
       "      <th>label</th>\n",
       "      <th>term_no_sw</th>\n",
       "    </tr>\n",
       "  </thead>\n",
       "  <tbody>\n",
       "    <tr>\n",
       "      <th>4</th>\n",
       "      <td>used generators for sale uk</td>\n",
       "      <td>213</td>\n",
       "      <td>used generators sale uk</td>\n",
       "    </tr>\n",
       "    <tr>\n",
       "      <th>10</th>\n",
       "      <td>grey kettle and toaster</td>\n",
       "      <td>1350</td>\n",
       "      <td>grey kettle toaster</td>\n",
       "    </tr>\n",
       "    <tr>\n",
       "      <th>12</th>\n",
       "      <td>sightseeing in barcelona</td>\n",
       "      <td>248</td>\n",
       "      <td>sightseeing barcelona</td>\n",
       "    </tr>\n",
       "    <tr>\n",
       "      <th>14</th>\n",
       "      <td>map of cornwall uk</td>\n",
       "      <td>823</td>\n",
       "      <td>map cornwall uk</td>\n",
       "    </tr>\n",
       "    <tr>\n",
       "      <th>15</th>\n",
       "      <td>damp from chimney</td>\n",
       "      <td>343</td>\n",
       "      <td>damp chimney</td>\n",
       "    </tr>\n",
       "  </tbody>\n",
       "</table>\n",
       "</div>"
      ],
      "text/plain": [
       "                           term  label               term_no_sw\n",
       "4   used generators for sale uk    213  used generators sale uk\n",
       "10      grey kettle and toaster   1350      grey kettle toaster\n",
       "12     sightseeing in barcelona    248    sightseeing barcelona\n",
       "14           map of cornwall uk    823          map cornwall uk\n",
       "15            damp from chimney    343             damp chimney"
      ]
     },
     "execution_count": 31,
     "metadata": {},
     "output_type": "execute_result"
    }
   ],
   "source": [
    "df[ df['term'] != df['term_no_sw']].head(5)"
   ]
  },
  {
   "cell_type": "code",
   "execution_count": 32,
   "metadata": {},
   "outputs": [
    {
     "data": {
      "text/html": [
       "<div>\n",
       "<style scoped>\n",
       "    .dataframe tbody tr th:only-of-type {\n",
       "        vertical-align: middle;\n",
       "    }\n",
       "\n",
       "    .dataframe tbody tr th {\n",
       "        vertical-align: top;\n",
       "    }\n",
       "\n",
       "    .dataframe thead th {\n",
       "        text-align: right;\n",
       "    }\n",
       "</style>\n",
       "<table border=\"1\" class=\"dataframe\">\n",
       "  <thead>\n",
       "    <tr style=\"text-align: right;\">\n",
       "      <th></th>\n",
       "      <th>term</th>\n",
       "      <th>label</th>\n",
       "      <th>term_no_sw</th>\n",
       "    </tr>\n",
       "  </thead>\n",
       "  <tbody>\n",
       "    <tr>\n",
       "      <th>0</th>\n",
       "      <td>yew hedge</td>\n",
       "      <td>1221</td>\n",
       "      <td>yew hedge</td>\n",
       "    </tr>\n",
       "    <tr>\n",
       "      <th>1</th>\n",
       "      <td>fire detection shop</td>\n",
       "      <td>19</td>\n",
       "      <td>fire detection shop</td>\n",
       "    </tr>\n",
       "    <tr>\n",
       "      <th>2</th>\n",
       "      <td>cheap couch roll</td>\n",
       "      <td>398</td>\n",
       "      <td>cheap couch roll</td>\n",
       "    </tr>\n",
       "    <tr>\n",
       "      <th>3</th>\n",
       "      <td>extra watermelon gum</td>\n",
       "      <td>1108</td>\n",
       "      <td>extra watermelon gum</td>\n",
       "    </tr>\n",
       "    <tr>\n",
       "      <th>4</th>\n",
       "      <td>used generators for sale uk</td>\n",
       "      <td>213</td>\n",
       "      <td>used generators sale uk</td>\n",
       "    </tr>\n",
       "  </tbody>\n",
       "</table>\n",
       "</div>"
      ],
      "text/plain": [
       "                          term  label               term_no_sw\n",
       "0                    yew hedge   1221                yew hedge\n",
       "1          fire detection shop     19      fire detection shop\n",
       "2             cheap couch roll    398         cheap couch roll\n",
       "3         extra watermelon gum   1108     extra watermelon gum\n",
       "4  used generators for sale uk    213  used generators sale uk"
      ]
     },
     "execution_count": 32,
     "metadata": {},
     "output_type": "execute_result"
    }
   ],
   "source": [
    "df.head()"
   ]
  },
  {
   "cell_type": "code",
   "execution_count": null,
   "metadata": {},
   "outputs": [],
   "source": []
  },
  {
   "cell_type": "code",
   "execution_count": null,
   "metadata": {},
   "outputs": [],
   "source": []
  }
 ],
 "metadata": {
  "kernelspec": {
   "display_name": "Python 3",
   "language": "python",
   "name": "python3"
  },
  "language_info": {
   "codemirror_mode": {
    "name": "ipython",
    "version": 3
   },
   "file_extension": ".py",
   "mimetype": "text/x-python",
   "name": "python",
   "nbconvert_exporter": "python",
   "pygments_lexer": "ipython3",
   "version": "3.7.3"
  }
 },
 "nbformat": 4,
 "nbformat_minor": 4
}
